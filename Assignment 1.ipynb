{
 "cells": [
  {
   "cell_type": "markdown",
   "id": "87391c3b",
   "metadata": {},
   "source": [
    "# Reese Bottorff"
   ]
  },
  {
   "cell_type": "markdown",
   "id": "8ae55c46",
   "metadata": {},
   "source": [
    "## Getting started with markdown"
   ]
  },
  {
   "cell_type": "markdown",
   "id": "ce0d471d",
   "metadata": {},
   "source": [
    "> I will go and get a bagel after this class"
   ]
  },
  {
   "cell_type": "markdown",
   "id": "16cd2753",
   "metadata": {},
   "source": [
    "* Variables and Simple Data Types\n",
    "* Introducing Lists, Tuples\n",
    "* If statements\n",
    "* Dictionaries\n",
    "* While Loops\n",
    "* Functions\n",
    "* Classes\n",
    "* Numpy"
   ]
  },
  {
   "cell_type": "markdown",
   "id": "1e5e765f",
   "metadata": {},
   "source": [
    "1. Assignment 1\n",
    "2. Assignment 2\n",
    "3. Assignment 3 \n",
    "4. Assigment 4\n",
    "5. Assigment 5\n",
    "6. Assigment 6\n",
    "7. Assignment 7"
   ]
  },
  {
   "cell_type": "markdown",
   "id": "9d8dbebe",
   "metadata": {},
   "source": [
    "**I have to work Saturday**"
   ]
  },
  {
   "cell_type": "markdown",
   "id": "6b0b4bb5",
   "metadata": {},
   "source": [
    "*I will go to the gym tonight*"
   ]
  },
  {
   "cell_type": "markdown",
   "id": "45414304",
   "metadata": {},
   "source": [
    "`Today is Monday`"
   ]
  },
  {
   "cell_type": "markdown",
   "id": "400448d5",
   "metadata": {},
   "source": [
    "<a href=\"https://github.com/Reeseab03/Assignment-1\">Github</a>"
   ]
  },
  {
   "cell_type": "markdown",
   "id": "9dcb97f1",
   "metadata": {},
   "source": [
    "![Python \n",
    "Logo](https://img.freepik.com/free-vector/spring-flower-collection_23-2148853687.jpg?w=2000)"
   ]
  },
  {
   "cell_type": "code",
   "execution_count": null,
   "id": "898d9602",
   "metadata": {},
   "outputs": [],
   "source": []
  }
 ],
 "metadata": {
  "kernelspec": {
   "display_name": "Python 3 (ipykernel)",
   "language": "python",
   "name": "python3"
  },
  "language_info": {
   "codemirror_mode": {
    "name": "ipython",
    "version": 3
   },
   "file_extension": ".py",
   "mimetype": "text/x-python",
   "name": "python",
   "nbconvert_exporter": "python",
   "pygments_lexer": "ipython3",
   "version": "3.9.13"
  }
 },
 "nbformat": 4,
 "nbformat_minor": 5
}
